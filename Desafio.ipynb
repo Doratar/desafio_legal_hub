{
 "cells": [
  {
   "cell_type": "code",
   "execution_count": 2,
   "id": "0ce15f83",
   "metadata": {},
   "outputs": [],
   "source": [
    "#Importar algunas librerias\n",
    "import pandas as pd\n",
    "import numpy as np"
   ]
  },
  {
   "cell_type": "code",
   "execution_count": 3,
   "id": "a5c90162",
   "metadata": {},
   "outputs": [],
   "source": [
    "#Leer el archivo\n",
    "df = pd.read_excel('dataset.xlsx')"
   ]
  },
  {
   "cell_type": "code",
   "execution_count": 4,
   "id": "78fdb217",
   "metadata": {},
   "outputs": [
    {
     "data": {
      "text/html": [
       "<div>\n",
       "<style scoped>\n",
       "    .dataframe tbody tr th:only-of-type {\n",
       "        vertical-align: middle;\n",
       "    }\n",
       "\n",
       "    .dataframe tbody tr th {\n",
       "        vertical-align: top;\n",
       "    }\n",
       "\n",
       "    .dataframe thead th {\n",
       "        text-align: right;\n",
       "    }\n",
       "</style>\n",
       "<table border=\"1\" class=\"dataframe\">\n",
       "  <thead>\n",
       "    <tr style=\"text-align: right;\">\n",
       "      <th></th>\n",
       "      <th>nocues</th>\n",
       "      <th>nhog</th>\n",
       "      <th>miembro</th>\n",
       "      <th>f_calib3</th>\n",
       "      <th>region</th>\n",
       "      <th>aglo</th>\n",
       "      <th>t_aglo</th>\n",
       "      <th>estrato_U</th>\n",
       "      <th>cod_U</th>\n",
       "      <th>v108</th>\n",
       "      <th>...</th>\n",
       "      <th>v215b</th>\n",
       "      <th>v215bi</th>\n",
       "      <th>v216a</th>\n",
       "      <th>v216b</th>\n",
       "      <th>v216bi</th>\n",
       "      <th>v217a</th>\n",
       "      <th>v217b</th>\n",
       "      <th>v217bi</th>\n",
       "      <th>ITI</th>\n",
       "      <th>ITI_d</th>\n",
       "    </tr>\n",
       "  </thead>\n",
       "  <tbody>\n",
       "    <tr>\n",
       "      <th>0</th>\n",
       "      <td>1.0</td>\n",
       "      <td>1.0</td>\n",
       "      <td>1.0</td>\n",
       "      <td>778.0</td>\n",
       "      <td>3.0</td>\n",
       "      <td>6.0</td>\n",
       "      <td>4.0</td>\n",
       "      <td>164.0</td>\n",
       "      <td>682.0</td>\n",
       "      <td>56.0</td>\n",
       "      <td>...</td>\n",
       "      <td>NaN</td>\n",
       "      <td>0.0</td>\n",
       "      <td>0.0</td>\n",
       "      <td>NaN</td>\n",
       "      <td>0.0</td>\n",
       "      <td>0.0</td>\n",
       "      <td>NaN</td>\n",
       "      <td>0.0</td>\n",
       "      <td>4500.0</td>\n",
       "      <td>6.0</td>\n",
       "    </tr>\n",
       "    <tr>\n",
       "      <th>1</th>\n",
       "      <td>1.0</td>\n",
       "      <td>1.0</td>\n",
       "      <td>2.0</td>\n",
       "      <td>778.0</td>\n",
       "      <td>3.0</td>\n",
       "      <td>6.0</td>\n",
       "      <td>4.0</td>\n",
       "      <td>164.0</td>\n",
       "      <td>682.0</td>\n",
       "      <td>51.0</td>\n",
       "      <td>...</td>\n",
       "      <td>NaN</td>\n",
       "      <td>0.0</td>\n",
       "      <td>0.0</td>\n",
       "      <td>NaN</td>\n",
       "      <td>0.0</td>\n",
       "      <td>0.0</td>\n",
       "      <td>NaN</td>\n",
       "      <td>0.0</td>\n",
       "      <td>4000.0</td>\n",
       "      <td>5.0</td>\n",
       "    </tr>\n",
       "    <tr>\n",
       "      <th>2</th>\n",
       "      <td>1.0</td>\n",
       "      <td>1.0</td>\n",
       "      <td>3.0</td>\n",
       "      <td>778.0</td>\n",
       "      <td>3.0</td>\n",
       "      <td>6.0</td>\n",
       "      <td>4.0</td>\n",
       "      <td>164.0</td>\n",
       "      <td>682.0</td>\n",
       "      <td>31.0</td>\n",
       "      <td>...</td>\n",
       "      <td>NaN</td>\n",
       "      <td>0.0</td>\n",
       "      <td>0.0</td>\n",
       "      <td>NaN</td>\n",
       "      <td>0.0</td>\n",
       "      <td>0.0</td>\n",
       "      <td>NaN</td>\n",
       "      <td>0.0</td>\n",
       "      <td>NaN</td>\n",
       "      <td>NaN</td>\n",
       "    </tr>\n",
       "    <tr>\n",
       "      <th>3</th>\n",
       "      <td>1.0</td>\n",
       "      <td>1.0</td>\n",
       "      <td>4.0</td>\n",
       "      <td>778.0</td>\n",
       "      <td>3.0</td>\n",
       "      <td>6.0</td>\n",
       "      <td>4.0</td>\n",
       "      <td>164.0</td>\n",
       "      <td>682.0</td>\n",
       "      <td>31.0</td>\n",
       "      <td>...</td>\n",
       "      <td>NaN</td>\n",
       "      <td>0.0</td>\n",
       "      <td>0.0</td>\n",
       "      <td>NaN</td>\n",
       "      <td>0.0</td>\n",
       "      <td>0.0</td>\n",
       "      <td>NaN</td>\n",
       "      <td>0.0</td>\n",
       "      <td>NaN</td>\n",
       "      <td>NaN</td>\n",
       "    </tr>\n",
       "    <tr>\n",
       "      <th>4</th>\n",
       "      <td>1.0</td>\n",
       "      <td>1.0</td>\n",
       "      <td>5.0</td>\n",
       "      <td>778.0</td>\n",
       "      <td>3.0</td>\n",
       "      <td>6.0</td>\n",
       "      <td>4.0</td>\n",
       "      <td>164.0</td>\n",
       "      <td>682.0</td>\n",
       "      <td>7.0</td>\n",
       "      <td>...</td>\n",
       "      <td>NaN</td>\n",
       "      <td>0.0</td>\n",
       "      <td>0.0</td>\n",
       "      <td>NaN</td>\n",
       "      <td>0.0</td>\n",
       "      <td>0.0</td>\n",
       "      <td>NaN</td>\n",
       "      <td>0.0</td>\n",
       "      <td>NaN</td>\n",
       "      <td>NaN</td>\n",
       "    </tr>\n",
       "  </tbody>\n",
       "</table>\n",
       "<p>5 rows × 157 columns</p>\n",
       "</div>"
      ],
      "text/plain": [
       "   nocues  nhog  miembro  f_calib3  region  aglo  t_aglo  estrato_U  cod_U  \\\n",
       "0     1.0   1.0      1.0     778.0     3.0   6.0     4.0      164.0  682.0   \n",
       "1     1.0   1.0      2.0     778.0     3.0   6.0     4.0      164.0  682.0   \n",
       "2     1.0   1.0      3.0     778.0     3.0   6.0     4.0      164.0  682.0   \n",
       "3     1.0   1.0      4.0     778.0     3.0   6.0     4.0      164.0  682.0   \n",
       "4     1.0   1.0      5.0     778.0     3.0   6.0     4.0      164.0  682.0   \n",
       "\n",
       "   v108  ...  v215b  v215bi  v216a  v216b  v216bi  v217a  v217b  v217bi  \\\n",
       "0  56.0  ...    NaN     0.0    0.0    NaN     0.0    0.0    NaN     0.0   \n",
       "1  51.0  ...    NaN     0.0    0.0    NaN     0.0    0.0    NaN     0.0   \n",
       "2  31.0  ...    NaN     0.0    0.0    NaN     0.0    0.0    NaN     0.0   \n",
       "3  31.0  ...    NaN     0.0    0.0    NaN     0.0    0.0    NaN     0.0   \n",
       "4   7.0  ...    NaN     0.0    0.0    NaN     0.0    0.0    NaN     0.0   \n",
       "\n",
       "      ITI  ITI_d  \n",
       "0  4500.0    6.0  \n",
       "1  4000.0    5.0  \n",
       "2     NaN    NaN  \n",
       "3     NaN    NaN  \n",
       "4     NaN    NaN  \n",
       "\n",
       "[5 rows x 157 columns]"
      ]
     },
     "execution_count": 4,
     "metadata": {},
     "output_type": "execute_result"
    }
   ],
   "source": [
    "#Primera impresion del archivo\n",
    "df.head()"
   ]
  },
  {
   "cell_type": "code",
   "execution_count": 5,
   "id": "03063a35",
   "metadata": {},
   "outputs": [
    {
     "data": {
      "text/html": [
       "<div>\n",
       "<style scoped>\n",
       "    .dataframe tbody tr th:only-of-type {\n",
       "        vertical-align: middle;\n",
       "    }\n",
       "\n",
       "    .dataframe tbody tr th {\n",
       "        vertical-align: top;\n",
       "    }\n",
       "\n",
       "    .dataframe thead th {\n",
       "        text-align: right;\n",
       "    }\n",
       "</style>\n",
       "<table border=\"1\" class=\"dataframe\">\n",
       "  <thead>\n",
       "    <tr style=\"text-align: right;\">\n",
       "      <th></th>\n",
       "      <th>nocues</th>\n",
       "      <th>nhog</th>\n",
       "      <th>miembro</th>\n",
       "      <th>f_calib3</th>\n",
       "      <th>region</th>\n",
       "      <th>aglo</th>\n",
       "      <th>t_aglo</th>\n",
       "      <th>estrato_U</th>\n",
       "      <th>cod_U</th>\n",
       "      <th>v108</th>\n",
       "      <th>...</th>\n",
       "      <th>v215b</th>\n",
       "      <th>v215bi</th>\n",
       "      <th>v216a</th>\n",
       "      <th>v216b</th>\n",
       "      <th>v216bi</th>\n",
       "      <th>v217a</th>\n",
       "      <th>v217b</th>\n",
       "      <th>v217bi</th>\n",
       "      <th>ITI</th>\n",
       "      <th>ITI_d</th>\n",
       "    </tr>\n",
       "  </thead>\n",
       "  <tbody>\n",
       "    <tr>\n",
       "      <th>count</th>\n",
       "      <td>27610.000000</td>\n",
       "      <td>27610.000000</td>\n",
       "      <td>27610.000000</td>\n",
       "      <td>27610.000000</td>\n",
       "      <td>27610.000000</td>\n",
       "      <td>27610.000000</td>\n",
       "      <td>27610.000000</td>\n",
       "      <td>27610.000000</td>\n",
       "      <td>27610.000000</td>\n",
       "      <td>27610.000000</td>\n",
       "      <td>...</td>\n",
       "      <td>3318.000000</td>\n",
       "      <td>27506.000000</td>\n",
       "      <td>27587.000000</td>\n",
       "      <td>2678.000000</td>\n",
       "      <td>27587.000000</td>\n",
       "      <td>27586.000000</td>\n",
       "      <td>749.000000</td>\n",
       "      <td>27586.000000</td>\n",
       "      <td>17625.000000</td>\n",
       "      <td>17625.000000</td>\n",
       "    </tr>\n",
       "    <tr>\n",
       "      <th>mean</th>\n",
       "      <td>4065.264976</td>\n",
       "      <td>1.031981</td>\n",
       "      <td>2.673452</td>\n",
       "      <td>1356.793589</td>\n",
       "      <td>4.568453</td>\n",
       "      <td>4.841398</td>\n",
       "      <td>1.863021</td>\n",
       "      <td>145.362731</td>\n",
       "      <td>540.690040</td>\n",
       "      <td>33.285150</td>\n",
       "      <td>...</td>\n",
       "      <td>4546.280289</td>\n",
       "      <td>654.313495</td>\n",
       "      <td>0.154276</td>\n",
       "      <td>914.857730</td>\n",
       "      <td>146.123863</td>\n",
       "      <td>0.058544</td>\n",
       "      <td>2607.405874</td>\n",
       "      <td>167.380447</td>\n",
       "      <td>5370.335603</td>\n",
       "      <td>5.259348</td>\n",
       "    </tr>\n",
       "    <tr>\n",
       "      <th>std</th>\n",
       "      <td>2396.581322</td>\n",
       "      <td>0.199492</td>\n",
       "      <td>1.694321</td>\n",
       "      <td>1516.333687</td>\n",
       "      <td>2.197641</td>\n",
       "      <td>1.742802</td>\n",
       "      <td>1.071867</td>\n",
       "      <td>75.148411</td>\n",
       "      <td>258.635214</td>\n",
       "      <td>22.255289</td>\n",
       "      <td>...</td>\n",
       "      <td>3917.607157</td>\n",
       "      <td>2209.877451</td>\n",
       "      <td>0.361219</td>\n",
       "      <td>1502.747876</td>\n",
       "      <td>662.215870</td>\n",
       "      <td>0.234774</td>\n",
       "      <td>4142.552814</td>\n",
       "      <td>1215.673829</td>\n",
       "      <td>6169.862579</td>\n",
       "      <td>2.802789</td>\n",
       "    </tr>\n",
       "    <tr>\n",
       "      <th>min</th>\n",
       "      <td>1.000000</td>\n",
       "      <td>1.000000</td>\n",
       "      <td>1.000000</td>\n",
       "      <td>8.000000</td>\n",
       "      <td>1.000000</td>\n",
       "      <td>1.000000</td>\n",
       "      <td>1.000000</td>\n",
       "      <td>1.000000</td>\n",
       "      <td>1.000000</td>\n",
       "      <td>0.000000</td>\n",
       "      <td>...</td>\n",
       "      <td>156.000000</td>\n",
       "      <td>0.000000</td>\n",
       "      <td>0.000000</td>\n",
       "      <td>80.000000</td>\n",
       "      <td>0.000000</td>\n",
       "      <td>0.000000</td>\n",
       "      <td>100.000000</td>\n",
       "      <td>0.000000</td>\n",
       "      <td>80.000000</td>\n",
       "      <td>1.000000</td>\n",
       "    </tr>\n",
       "    <tr>\n",
       "      <th>25%</th>\n",
       "      <td>1965.000000</td>\n",
       "      <td>1.000000</td>\n",
       "      <td>1.000000</td>\n",
       "      <td>540.250000</td>\n",
       "      <td>3.000000</td>\n",
       "      <td>4.000000</td>\n",
       "      <td>1.000000</td>\n",
       "      <td>83.000000</td>\n",
       "      <td>335.000000</td>\n",
       "      <td>15.000000</td>\n",
       "      <td>...</td>\n",
       "      <td>2600.000000</td>\n",
       "      <td>0.000000</td>\n",
       "      <td>0.000000</td>\n",
       "      <td>500.000000</td>\n",
       "      <td>0.000000</td>\n",
       "      <td>0.000000</td>\n",
       "      <td>693.000000</td>\n",
       "      <td>0.000000</td>\n",
       "      <td>1400.000000</td>\n",
       "      <td>3.000000</td>\n",
       "    </tr>\n",
       "    <tr>\n",
       "      <th>50%</th>\n",
       "      <td>4029.000000</td>\n",
       "      <td>1.000000</td>\n",
       "      <td>2.000000</td>\n",
       "      <td>895.000000</td>\n",
       "      <td>5.000000</td>\n",
       "      <td>6.000000</td>\n",
       "      <td>1.000000</td>\n",
       "      <td>145.000000</td>\n",
       "      <td>559.000000</td>\n",
       "      <td>30.000000</td>\n",
       "      <td>...</td>\n",
       "      <td>3271.000000</td>\n",
       "      <td>0.000000</td>\n",
       "      <td>0.000000</td>\n",
       "      <td>528.000000</td>\n",
       "      <td>0.000000</td>\n",
       "      <td>0.000000</td>\n",
       "      <td>1617.000000</td>\n",
       "      <td>0.000000</td>\n",
       "      <td>3700.000000</td>\n",
       "      <td>5.000000</td>\n",
       "    </tr>\n",
       "    <tr>\n",
       "      <th>75%</th>\n",
       "      <td>6140.750000</td>\n",
       "      <td>1.000000</td>\n",
       "      <td>4.000000</td>\n",
       "      <td>1567.000000</td>\n",
       "      <td>7.000000</td>\n",
       "      <td>6.000000</td>\n",
       "      <td>3.000000</td>\n",
       "      <td>215.000000</td>\n",
       "      <td>760.000000</td>\n",
       "      <td>50.000000</td>\n",
       "      <td>...</td>\n",
       "      <td>5000.000000</td>\n",
       "      <td>0.000000</td>\n",
       "      <td>0.000000</td>\n",
       "      <td>743.000000</td>\n",
       "      <td>0.000000</td>\n",
       "      <td>0.000000</td>\n",
       "      <td>3117.000000</td>\n",
       "      <td>0.000000</td>\n",
       "      <td>7000.000000</td>\n",
       "      <td>8.000000</td>\n",
       "    </tr>\n",
       "    <tr>\n",
       "      <th>max</th>\n",
       "      <td>8308.000000</td>\n",
       "      <td>5.000000</td>\n",
       "      <td>17.000000</td>\n",
       "      <td>27258.000000</td>\n",
       "      <td>8.000000</td>\n",
       "      <td>6.000000</td>\n",
       "      <td>4.000000</td>\n",
       "      <td>268.000000</td>\n",
       "      <td>984.000000</td>\n",
       "      <td>99.000000</td>\n",
       "      <td>...</td>\n",
       "      <td>50706.000000</td>\n",
       "      <td>50706.000000</td>\n",
       "      <td>1.000000</td>\n",
       "      <td>33804.000000</td>\n",
       "      <td>33804.000000</td>\n",
       "      <td>1.000000</td>\n",
       "      <td>79000.000000</td>\n",
       "      <td>79000.000000</td>\n",
       "      <td>104000.000000</td>\n",
       "      <td>10.000000</td>\n",
       "    </tr>\n",
       "  </tbody>\n",
       "</table>\n",
       "<p>8 rows × 153 columns</p>\n",
       "</div>"
      ],
      "text/plain": [
       "             nocues          nhog       miembro      f_calib3        region  \\\n",
       "count  27610.000000  27610.000000  27610.000000  27610.000000  27610.000000   \n",
       "mean    4065.264976      1.031981      2.673452   1356.793589      4.568453   \n",
       "std     2396.581322      0.199492      1.694321   1516.333687      2.197641   \n",
       "min        1.000000      1.000000      1.000000      8.000000      1.000000   \n",
       "25%     1965.000000      1.000000      1.000000    540.250000      3.000000   \n",
       "50%     4029.000000      1.000000      2.000000    895.000000      5.000000   \n",
       "75%     6140.750000      1.000000      4.000000   1567.000000      7.000000   \n",
       "max     8308.000000      5.000000     17.000000  27258.000000      8.000000   \n",
       "\n",
       "               aglo        t_aglo     estrato_U         cod_U          v108  \\\n",
       "count  27610.000000  27610.000000  27610.000000  27610.000000  27610.000000   \n",
       "mean       4.841398      1.863021    145.362731    540.690040     33.285150   \n",
       "std        1.742802      1.071867     75.148411    258.635214     22.255289   \n",
       "min        1.000000      1.000000      1.000000      1.000000      0.000000   \n",
       "25%        4.000000      1.000000     83.000000    335.000000     15.000000   \n",
       "50%        6.000000      1.000000    145.000000    559.000000     30.000000   \n",
       "75%        6.000000      3.000000    215.000000    760.000000     50.000000   \n",
       "max        6.000000      4.000000    268.000000    984.000000     99.000000   \n",
       "\n",
       "       ...         v215b        v215bi         v216a         v216b  \\\n",
       "count  ...   3318.000000  27506.000000  27587.000000   2678.000000   \n",
       "mean   ...   4546.280289    654.313495      0.154276    914.857730   \n",
       "std    ...   3917.607157   2209.877451      0.361219   1502.747876   \n",
       "min    ...    156.000000      0.000000      0.000000     80.000000   \n",
       "25%    ...   2600.000000      0.000000      0.000000    500.000000   \n",
       "50%    ...   3271.000000      0.000000      0.000000    528.000000   \n",
       "75%    ...   5000.000000      0.000000      0.000000    743.000000   \n",
       "max    ...  50706.000000  50706.000000      1.000000  33804.000000   \n",
       "\n",
       "             v216bi         v217a         v217b        v217bi            ITI  \\\n",
       "count  27587.000000  27586.000000    749.000000  27586.000000   17625.000000   \n",
       "mean     146.123863      0.058544   2607.405874    167.380447    5370.335603   \n",
       "std      662.215870      0.234774   4142.552814   1215.673829    6169.862579   \n",
       "min        0.000000      0.000000    100.000000      0.000000      80.000000   \n",
       "25%        0.000000      0.000000    693.000000      0.000000    1400.000000   \n",
       "50%        0.000000      0.000000   1617.000000      0.000000    3700.000000   \n",
       "75%        0.000000      0.000000   3117.000000      0.000000    7000.000000   \n",
       "max    33804.000000      1.000000  79000.000000  79000.000000  104000.000000   \n",
       "\n",
       "              ITI_d  \n",
       "count  17625.000000  \n",
       "mean       5.259348  \n",
       "std        2.802789  \n",
       "min        1.000000  \n",
       "25%        3.000000  \n",
       "50%        5.000000  \n",
       "75%        8.000000  \n",
       "max       10.000000  \n",
       "\n",
       "[8 rows x 153 columns]"
      ]
     },
     "execution_count": 5,
     "metadata": {},
     "output_type": "execute_result"
    }
   ],
   "source": [
    "#Descripción de las primeras variables\n",
    "df_described = df.describe()\n",
    "df_described"
   ]
  },
  {
   "cell_type": "code",
   "execution_count": 6,
   "id": "72e694df",
   "metadata": {},
   "outputs": [
    {
     "name": "stdout",
     "output_type": "stream",
     "text": [
      "count    15429.000000\n",
      "mean         6.948733\n",
      "std          2.415710\n",
      "min          1.000000\n",
      "25%          5.000000\n",
      "50%          7.000000\n",
      "75%          8.000000\n",
      "max         11.000000\n",
      "Name: CSO, dtype: float64\n",
      "0    8.0\n",
      "dtype: float64\n"
     ]
    }
   ],
   "source": [
    "#Descripcion de columnas especificas\n",
    "columna = 'CSO'\n",
    "\n",
    "print(df_described[columna])\n",
    "\n",
    "print(df[columna].mode())"
   ]
  },
  {
   "cell_type": "code",
   "execution_count": 7,
   "id": "06c8a555",
   "metadata": {},
   "outputs": [
    {
     "data": {
      "text/plain": [
       "<AxesSubplot:>"
      ]
     },
     "execution_count": 7,
     "metadata": {},
     "output_type": "execute_result"
    },
    {
     "data": {
      "image/png": "[encoded data removed]",
      "text/plain": [
       "<Figure size 432x288 with 1 Axes>"
      ]
     },
     "metadata": {
      "needs_background": "light"
     },
     "output_type": "display_data"
    }
   ],
   "source": [
    "#Histograma de edad\n",
    "\n",
    "#Parece que sigue la distribuciòn exponencial\n",
    "\n",
    "df['v108'].hist(bins=10)"
   ]
  },
  {
   "cell_type": "code",
   "execution_count": 8,
   "id": "9aaf88b7",
   "metadata": {},
   "outputs": [],
   "source": [
    "df['v109'] = df['v109'].astype('category')"
   ]
  },
  {
   "cell_type": "code",
   "execution_count": 9,
   "id": "6581c018",
   "metadata": {},
   "outputs": [
    {
     "name": "stderr",
     "output_type": "stream",
     "text": [
      "e:\\documentos\\desafio legal hub\\venv\\lib\\site-packages\\pandas\\io\\formats\\format.py:1429: FutureWarning: Index.ravel returning ndarray is deprecated; in a future version this will return a view on self.\n",
      "  for val, m in zip(values.ravel(), mask.ravel())\n"
     ]
    },
    {
     "data": {
      "text/plain": [
       "0        1.0\n",
       "1        2.0\n",
       "2        2.0\n",
       "3        1.0\n",
       "4        2.0\n",
       "        ... \n",
       "27610    2.0\n",
       "27611    2.0\n",
       "27612    2.0\n",
       "27613    1.0\n",
       "27614    2.0\n",
       "Name: v109, Length: 27615, dtype: category\n",
       "Categories (3, float64): [1.0, 2.0, 3.0]"
      ]
     },
     "execution_count": 9,
     "metadata": {},
     "output_type": "execute_result"
    }
   ],
   "source": [
    "df['v109']"
   ]
  },
  {
   "cell_type": "code",
   "execution_count": 10,
   "id": "d8a61d4c",
   "metadata": {},
   "outputs": [
    {
     "name": "stdout",
     "output_type": "stream",
     "text": [
      "Cantidad de personas de sexo = 1: 13258\n",
      "Cantidad de personas de sexo = 2: 14346\n",
      "Cantidad de personas de sexo = 3: 6\n"
     ]
    }
   ],
   "source": [
    "#Cantidad de personas por sexo = 1\n",
    "print('Cantidad de personas de sexo = 1:',len(df[df['v109'] == 1]))\n",
    "\n",
    "#Cantidad de personas por sexo = 2\n",
    "print('Cantidad de personas de sexo = 2:',len(df[df['v109'] == 2]))\n",
    "\n",
    "#Cantidad de personas por sexo = 3\n",
    "print('Cantidad de personas de sexo = 3:',len(df[df['v109'] == 3]))"
   ]
  },
  {
   "cell_type": "code",
   "execution_count": 11,
   "id": "3ba3790f",
   "metadata": {},
   "outputs": [
    {
     "ename": "ValueError",
     "evalue": "hist method requires numerical or datetime columns, nothing to plot.",
     "output_type": "error",
     "traceback": [
      "\u001b[1;31m---------------------------------------------------------------------------\u001b[0m",
      "\u001b[1;31mValueError\u001b[0m                                Traceback (most recent call last)",
      "\u001b[1;32m~\\AppData\\Local\\Temp/ipykernel_9784/2441035419.py\u001b[0m in \u001b[0;36m<module>\u001b[1;34m\u001b[0m\n\u001b[1;32m----> 1\u001b[1;33m \u001b[0mdf\u001b[0m\u001b[1;33m.\u001b[0m\u001b[0mhist\u001b[0m\u001b[1;33m(\u001b[0m\u001b[0mcolumn\u001b[0m \u001b[1;33m=\u001b[0m \u001b[1;34m'v109'\u001b[0m\u001b[1;33m,\u001b[0m \u001b[0mbins\u001b[0m\u001b[1;33m=\u001b[0m\u001b[1;36m3\u001b[0m\u001b[1;33m,\u001b[0m \u001b[1;33m)\u001b[0m\u001b[1;33m\u001b[0m\u001b[1;33m\u001b[0m\u001b[0m\n\u001b[0m",
      "\u001b[1;32me:\\documentos\\desafio legal hub\\venv\\lib\\site-packages\\pandas\\plotting\\_core.py\u001b[0m in \u001b[0;36mhist_frame\u001b[1;34m(data, column, by, grid, xlabelsize, xrot, ylabelsize, yrot, ax, sharex, sharey, figsize, layout, bins, backend, legend, **kwargs)\u001b[0m\n\u001b[0;32m    224\u001b[0m     \"\"\"\n\u001b[0;32m    225\u001b[0m     \u001b[0mplot_backend\u001b[0m \u001b[1;33m=\u001b[0m \u001b[0m_get_plot_backend\u001b[0m\u001b[1;33m(\u001b[0m\u001b[0mbackend\u001b[0m\u001b[1;33m)\u001b[0m\u001b[1;33m\u001b[0m\u001b[1;33m\u001b[0m\u001b[0m\n\u001b[1;32m--> 226\u001b[1;33m     return plot_backend.hist_frame(\n\u001b[0m\u001b[0;32m    227\u001b[0m         \u001b[0mdata\u001b[0m\u001b[1;33m,\u001b[0m\u001b[1;33m\u001b[0m\u001b[1;33m\u001b[0m\u001b[0m\n\u001b[0;32m    228\u001b[0m         \u001b[0mcolumn\u001b[0m\u001b[1;33m=\u001b[0m\u001b[0mcolumn\u001b[0m\u001b[1;33m,\u001b[0m\u001b[1;33m\u001b[0m\u001b[1;33m\u001b[0m\u001b[0m\n",
      "\u001b[1;32me:\\documentos\\desafio legal hub\\venv\\lib\\site-packages\\pandas\\plotting\\_matplotlib\\hist.py\u001b[0m in \u001b[0;36mhist_frame\u001b[1;34m(data, column, by, grid, xlabelsize, xrot, ylabelsize, yrot, ax, sharex, sharey, figsize, layout, bins, legend, **kwds)\u001b[0m\n\u001b[0;32m    441\u001b[0m \u001b[1;33m\u001b[0m\u001b[0m\n\u001b[0;32m    442\u001b[0m     \u001b[1;32mif\u001b[0m \u001b[0mnaxes\u001b[0m \u001b[1;33m==\u001b[0m \u001b[1;36m0\u001b[0m\u001b[1;33m:\u001b[0m\u001b[1;33m\u001b[0m\u001b[1;33m\u001b[0m\u001b[0m\n\u001b[1;32m--> 443\u001b[1;33m         raise ValueError(\n\u001b[0m\u001b[0;32m    444\u001b[0m             \u001b[1;34m\"hist method requires numerical or datetime columns, nothing to plot.\"\u001b[0m\u001b[1;33m\u001b[0m\u001b[1;33m\u001b[0m\u001b[0m\n\u001b[0;32m    445\u001b[0m         )\n",
      "\u001b[1;31mValueError\u001b[0m: hist method requires numerical or datetime columns, nothing to plot."
     ]
    }
   ],
   "source": [
    "df.hist(column = 'v109', bins=3, )"
   ]
  },
  {
   "cell_type": "code",
   "execution_count": 12,
   "id": "3a262fa3",
   "metadata": {},
   "outputs": [
    {
     "data": {
      "text/plain": [
       "v109\n",
       "1.0    6196.462001\n",
       "2.0    4514.471840\n",
       "3.0    2119.250000\n",
       "Name: ITI, dtype: float64"
      ]
     },
     "execution_count": 12,
     "metadata": {},
     "output_type": "execute_result"
    }
   ],
   "source": [
    "#Promedio de 'Monto de ingreso total individual' por sexo\n",
    "df_groupby_sexo = df.groupby('v109').mean()\n",
    "df_groupby_sexo['ITI']"
   ]
  },
  {
   "cell_type": "code",
   "execution_count": 13,
   "id": "59e9f060",
   "metadata": {},
   "outputs": [
    {
     "data": {
      "text/plain": [
       "v109\n",
       "1.0    7281.135987\n",
       "2.0    5512.819794\n",
       "3.0    2123.333333\n",
       "Name: ITLi, dtype: float64"
      ]
     },
     "execution_count": 13,
     "metadata": {},
     "output_type": "execute_result"
    }
   ],
   "source": [
    "#Promedio de 'Monto de ingreso total laboral' por sexo\n",
    "df_groupby_sexo['ITLi']"
   ]
  },
  {
   "cell_type": "code",
   "execution_count": 95,
   "id": "b23447ba",
   "metadata": {},
   "outputs": [
    {
     "data": {
      "text/plain": [
       "v109\n",
       "1.0    4412.0\n",
       "2.0    3000.0\n",
       "3.0    2450.0\n",
       "Name: ITI, dtype: float64"
      ]
     },
     "execution_count": 95,
     "metadata": {},
     "output_type": "execute_result"
    }
   ],
   "source": [
    "#Mediana de 'Monto de ingreso total individual' por sexo\n",
    "df_groupby_sexo_median = df.groupby('v109').median()\n",
    "df_groupby_sexo_median['ITI']"
   ]
  },
  {
   "cell_type": "code",
   "execution_count": 98,
   "id": "125b875c",
   "metadata": {},
   "outputs": [
    {
     "data": {
      "text/plain": [
       "v109\n",
       "1.0     791.893761\n",
       "2.0    1012.973172\n",
       "3.0     460.000000\n",
       "Name: v216b, dtype: float64"
      ]
     },
     "execution_count": 98,
     "metadata": {},
     "output_type": "execute_result"
    }
   ],
   "source": [
    "#'Percepción de ingresos por pensiones sociales, AHU u otros planes sociales el mes pasado' por sexo\n",
    "df_groupby_sexo['v216b']"
   ]
  },
  {
   "cell_type": "code",
   "execution_count": 107,
   "id": "2002e09b",
   "metadata": {},
   "outputs": [
    {
     "data": {
      "text/plain": [
       "array([ 8.,  7.,  5.,  2.,  3.,  4., 99.,  1.,  0.,  9.,  6., 10., nan])"
      ]
     },
     "execution_count": 107,
     "metadata": {},
     "output_type": "execute_result"
    }
   ],
   "source": [
    "df['nivel_ed'].unique()"
   ]
  },
  {
   "cell_type": "code",
   "execution_count": 108,
   "id": "9f2f8e9e",
   "metadata": {},
   "outputs": [
    {
     "data": {
      "text/plain": [
       "count    27610.000000\n",
       "mean         4.001956\n",
       "std          2.572868\n",
       "min          0.000000\n",
       "25%          2.000000\n",
       "50%          4.000000\n",
       "75%          5.000000\n",
       "max         99.000000\n",
       "Name: nivel_ed, dtype: float64"
      ]
     },
     "execution_count": 108,
     "metadata": {},
     "output_type": "execute_result"
    }
   ],
   "source": [
    "df_described['nivel_ed']"
   ]
  },
  {
   "cell_type": "code",
   "execution_count": 103,
   "id": "10a43b57",
   "metadata": {},
   "outputs": [
    {
     "data": {
      "text/plain": [
       "v109\n",
       "1.0    3.892819\n",
       "2.0    4.102189\n",
       "3.0    5.500000\n",
       "Name: nivel_ed, dtype: float64"
      ]
     },
     "execution_count": 103,
     "metadata": {},
     "output_type": "execute_result"
    }
   ],
   "source": [
    "#Promedio de 'Máximo nivel educativo alcanzado' por sexo\n",
    "df_groupby_sexo['nivel_ed']"
   ]
  },
  {
   "cell_type": "code",
   "execution_count": 1,
   "id": "b1e21bee",
   "metadata": {},
   "outputs": [
    {
     "ename": "NameError",
     "evalue": "name 'df' is not defined",
     "output_type": "error",
     "traceback": [
      "\u001b[1;31m---------------------------------------------------------------------------\u001b[0m",
      "\u001b[1;31mNameError\u001b[0m                                 Traceback (most recent call last)",
      "\u001b[1;32m~\\AppData\\Local\\Temp/ipykernel_9784/610254467.py\u001b[0m in \u001b[0;36m<module>\u001b[1;34m\u001b[0m\n\u001b[0;32m      1\u001b[0m \u001b[1;31m#Nivel economico promedio por provincia\u001b[0m\u001b[1;33m\u001b[0m\u001b[1;33m\u001b[0m\u001b[1;33m\u001b[0m\u001b[0m\n\u001b[1;32m----> 2\u001b[1;33m \u001b[0mdf_groupby_provincia\u001b[0m \u001b[1;33m=\u001b[0m \u001b[0mdf\u001b[0m\u001b[1;33m.\u001b[0m\u001b[0mgroupby\u001b[0m\u001b[1;33m(\u001b[0m\u001b[1;34m'v149b_pcia'\u001b[0m\u001b[1;33m)\u001b[0m\u001b[1;33m.\u001b[0m\u001b[0mmean\u001b[0m\u001b[1;33m(\u001b[0m\u001b[1;33m)\u001b[0m\u001b[1;33m\u001b[0m\u001b[1;33m\u001b[0m\u001b[0m\n\u001b[0m\u001b[0;32m      3\u001b[0m \u001b[0mdf\u001b[0m\u001b[1;33m[\u001b[0m\u001b[1;34m'ITI'\u001b[0m\u001b[1;33m]\u001b[0m\u001b[1;33m.\u001b[0m\u001b[0munique\u001b[0m\u001b[1;33m(\u001b[0m\u001b[1;33m)\u001b[0m\u001b[1;33m\u001b[0m\u001b[1;33m\u001b[0m\u001b[0m\n",
      "\u001b[1;31mNameError\u001b[0m: name 'df' is not defined"
     ]
    }
   ],
   "source": [
    "#Nivel economico promedio por provincia\n",
    "df_groupby_provincia = df.groupby('v149b_pcia').mean()\n",
    "df['ITI'].unique()"
   ]
  },
  {
   "cell_type": "code",
   "execution_count": 142,
   "id": "b3d72a57",
   "metadata": {},
   "outputs": [
    {
     "data": {
      "text/plain": [
       "<AxesSubplot:xlabel='v149b_pcia'>"
      ]
     },
     "execution_count": 142,
     "metadata": {},
     "output_type": "execute_result"
    },
    {
     "data": {
      "image/png": "[encoded data removed]",
      "text/plain": [
       "<Figure size 432x288 with 1 Axes>"
      ]
     },
     "metadata": {
      "needs_background": "light"
     },
     "output_type": "display_data"
    }
   ],
   "source": [
    "df_groupby_provincia['ITI'].plot()"
   ]
  },
  {
   "cell_type": "code",
   "execution_count": 135,
   "id": "c0bc12d9",
   "metadata": {},
   "outputs": [],
   "source": [
    "#Cantidad de personas que saben leer\n",
    "len_df = len(df['v117'])\n",
    "len_df_sabe_leer = len(df[df['v117'] == 1])\n",
    "len_df_no_sabe_leer = len_df - len_df_sabe_leer\n",
    "\n",
    "print('Porcentaje: ', )"
   ]
  },
  {
   "cell_type": "code",
   "execution_count": 139,
   "id": "855b8e9a",
   "metadata": {},
   "outputs": [
    {
     "ename": "TypeError",
     "evalue": "pie() missing 1 required positional argument: 'x'",
     "output_type": "error",
     "traceback": [
      "\u001b[1;31m---------------------------------------------------------------------------\u001b[0m",
      "\u001b[1;31mTypeError\u001b[0m                                 Traceback (most recent call last)",
      "\u001b[1;32m~\\AppData\\Local\\Temp/ipykernel_8876/3736965633.py\u001b[0m in \u001b[0;36m<module>\u001b[1;34m\u001b[0m\n\u001b[0;32m      1\u001b[0m \u001b[1;31m#Grafico de torta\u001b[0m\u001b[1;33m\u001b[0m\u001b[1;33m\u001b[0m\u001b[1;33m\u001b[0m\u001b[0m\n\u001b[1;32m----> 2\u001b[1;33m \u001b[0mdf_groupby_sexo\u001b[0m\u001b[1;33m[\u001b[0m\u001b[1;34m'v216b'\u001b[0m\u001b[1;33m]\u001b[0m\u001b[1;33m.\u001b[0m\u001b[0mplot\u001b[0m\u001b[1;33m(\u001b[0m\u001b[1;33m)\u001b[0m\u001b[1;33m.\u001b[0m\u001b[0mpie\u001b[0m\u001b[1;33m(\u001b[0m\u001b[1;33m)\u001b[0m\u001b[1;33m\u001b[0m\u001b[1;33m\u001b[0m\u001b[0m\n\u001b[0m",
      "\u001b[1;32me:\\documentos\\desafio legal hub\\venv\\lib\\site-packages\\matplotlib\\__init__.py\u001b[0m in \u001b[0;36minner\u001b[1;34m(ax, data, *args, **kwargs)\u001b[0m\n\u001b[0;32m   1359\u001b[0m     \u001b[1;32mdef\u001b[0m \u001b[0minner\u001b[0m\u001b[1;33m(\u001b[0m\u001b[0max\u001b[0m\u001b[1;33m,\u001b[0m \u001b[1;33m*\u001b[0m\u001b[0margs\u001b[0m\u001b[1;33m,\u001b[0m \u001b[0mdata\u001b[0m\u001b[1;33m=\u001b[0m\u001b[1;32mNone\u001b[0m\u001b[1;33m,\u001b[0m \u001b[1;33m**\u001b[0m\u001b[0mkwargs\u001b[0m\u001b[1;33m)\u001b[0m\u001b[1;33m:\u001b[0m\u001b[1;33m\u001b[0m\u001b[1;33m\u001b[0m\u001b[0m\n\u001b[0;32m   1360\u001b[0m         \u001b[1;32mif\u001b[0m \u001b[0mdata\u001b[0m \u001b[1;32mis\u001b[0m \u001b[1;32mNone\u001b[0m\u001b[1;33m:\u001b[0m\u001b[1;33m\u001b[0m\u001b[1;33m\u001b[0m\u001b[0m\n\u001b[1;32m-> 1361\u001b[1;33m             \u001b[1;32mreturn\u001b[0m \u001b[0mfunc\u001b[0m\u001b[1;33m(\u001b[0m\u001b[0max\u001b[0m\u001b[1;33m,\u001b[0m \u001b[1;33m*\u001b[0m\u001b[0mmap\u001b[0m\u001b[1;33m(\u001b[0m\u001b[0msanitize_sequence\u001b[0m\u001b[1;33m,\u001b[0m \u001b[0margs\u001b[0m\u001b[1;33m)\u001b[0m\u001b[1;33m,\u001b[0m \u001b[1;33m**\u001b[0m\u001b[0mkwargs\u001b[0m\u001b[1;33m)\u001b[0m\u001b[1;33m\u001b[0m\u001b[1;33m\u001b[0m\u001b[0m\n\u001b[0m\u001b[0;32m   1362\u001b[0m \u001b[1;33m\u001b[0m\u001b[0m\n\u001b[0;32m   1363\u001b[0m         \u001b[0mbound\u001b[0m \u001b[1;33m=\u001b[0m \u001b[0mnew_sig\u001b[0m\u001b[1;33m.\u001b[0m\u001b[0mbind\u001b[0m\u001b[1;33m(\u001b[0m\u001b[0max\u001b[0m\u001b[1;33m,\u001b[0m \u001b[1;33m*\u001b[0m\u001b[0margs\u001b[0m\u001b[1;33m,\u001b[0m \u001b[1;33m**\u001b[0m\u001b[0mkwargs\u001b[0m\u001b[1;33m)\u001b[0m\u001b[1;33m\u001b[0m\u001b[1;33m\u001b[0m\u001b[0m\n",
      "\u001b[1;31mTypeError\u001b[0m: pie() missing 1 required positional argument: 'x'"
     ]
    },
    {
     "data": {
      "image/png": "[encoded data removed]",
      "text/plain": [
       "<Figure size 432x288 with 1 Axes>"
      ]
     },
     "metadata": {
      "needs_background": "light"
     },
     "output_type": "display_data"
    }
   ],
   "source": [
    "#Grafico de torta\n",
    "df_groupby_sexo['v216b'].plot().pie()"
   ]
  },
  {
   "cell_type": "code",
   "execution_count": null,
   "id": "9597cad8",
   "metadata": {},
   "outputs": [],
   "source": []
  }
 ],
 "metadata": {
  "kernelspec": {
   "display_name": "Python 3 (ipykernel)",
   "language": "python",
   "name": "python3"
  },
  "language_info": {
   "codemirror_mode": {
    "name": "ipython",
    "version": 3
   },
   "file_extension": ".py",
   "mimetype": "text/x-python",
   "name": "python",
   "nbconvert_exporter": "python",
   "pygments_lexer": "ipython3",
   "version": "3.9.6"
  }
 },
 "nbformat": 4,
 "nbformat_minor": 5
}
